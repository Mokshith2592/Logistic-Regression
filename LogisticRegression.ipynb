{
  "nbformat": 4,
  "nbformat_minor": 0,
  "metadata": {
    "colab": {
      "provenance": []
    },
    "kernelspec": {
      "name": "python3",
      "display_name": "Python 3"
    },
    "language_info": {
      "name": "python"
    }
  },
  "cells": [
    {
      "cell_type": "code",
      "execution_count": null,
      "metadata": {
        "id": "7kPtQYiWO4Cr"
      },
      "outputs": [],
      "source": [
        "import pandas as pd\n",
        "import numpy as np\n",
        "from sklearn.model_selection import train_test_split"
      ]
    },
    {
      "cell_type": "code",
      "source": [
        "class Logistic_Regression():\n",
        "    def __init__(self ,learning_rate ,n_iterations):\n",
        "        self.learning_rate = learning_rate\n",
        "        self.n_iterations = n_iterations\n",
        "\n",
        "    def fit(self ,X ,Y):\n",
        "        self.m ,self.n = X.shape\n",
        "        self.w = np.zeros(self.n)\n",
        "        self.b = 0\n",
        "        self.X = X\n",
        "        self.Y = Y\n",
        "\n",
        "        for i in range(self.n_iterations):\n",
        "            self.update_weights()\n",
        "\n",
        "    def update_weights(self):\n",
        "        Y_hat = 1 / (1 + np.exp(-(self.X.dot(self.w) + self.b)))\n",
        "\n",
        "        dw = (1 / self.m)*np.dot(self.X.T ,(Y_hat - self.Y))\n",
        "        db = (1 / self.m)*np.sum(Y_hat - self.Y)\n",
        "\n",
        "        self.w = self.w - self.learning_rate*dw\n",
        "        self.b = self.b - self.learning_rate*db\n",
        "\n",
        "    def predict(self ,X):\n",
        "        Y_pred = 1 / (1 + np.exp(-(self.X.dot(self.w) + self.b)))\n",
        "        Y_pred = np.where(Y_pred > 0.5 ,1,0)\n",
        "        return Y_pred"
      ],
      "metadata": {
        "id": "ftM95XMWPVfX"
      },
      "execution_count": null,
      "outputs": []
    },
    {
      "cell_type": "code",
      "source": [
        "model = Logistic_Regression(learning_rate = 0.001 ,n_iterations = 1000)"
      ],
      "metadata": {
        "id": "2neNPiUeqXWe"
      },
      "execution_count": null,
      "outputs": []
    }
  ]
}